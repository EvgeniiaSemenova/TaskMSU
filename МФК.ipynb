{
  "cells": [
    {
      "cell_type": "markdown",
      "source": [
        "Семенова Евгения\n",
        "2 курс экономический факультет"
      ],
      "metadata": {
        "id": "gJNeFzmpnZbA"
      }
    },
    {
      "cell_type": "markdown",
      "metadata": {
        "id": "ZZdD4gpRtOgY"
      },
      "source": [
        "# Обработка датасета"
      ]
    },
    {
      "cell_type": "code",
      "execution_count": null,
      "metadata": {
        "colab": {
          "base_uri": "https://localhost:8080/",
          "height": 540
        },
        "id": "vnzvmPmAkhcB",
        "outputId": "37b3b310-3613-4128-a7f4-5e29a630c1f1"
      },
      "outputs": [
        {
          "output_type": "execute_result",
          "data": {
            "text/plain": [
              "    year  month  day  dep_time  dep_delay  arr_time  arr_delay carrier  \\\n",
              "0   2013      1    1     517.0        2.0     830.0       11.0      UA   \n",
              "1   2013      1    1     533.0        4.0     850.0       20.0      UA   \n",
              "2   2013      1    1     542.0        2.0     923.0       33.0      AA   \n",
              "3   2013      1    1     544.0       -1.0    1004.0      -18.0      B6   \n",
              "4   2013      1    1     554.0       -6.0     812.0      -25.0      DL   \n",
              "5   2013      1    1     554.0       -4.0     740.0       12.0      UA   \n",
              "6   2013      1    1     555.0       -5.0     913.0       19.0      B6   \n",
              "7   2013      1    1     557.0       -3.0     709.0      -14.0      EV   \n",
              "8   2013      1    1     557.0       -3.0     838.0       -8.0      B6   \n",
              "9   2013      1    1     558.0       -2.0     753.0        8.0      AA   \n",
              "10  2013      1    1     558.0       -2.0     849.0       -2.0      B6   \n",
              "11  2013      1    1     558.0       -2.0     853.0       -3.0      B6   \n",
              "12  2013      1    1     558.0       -2.0     924.0        7.0      UA   \n",
              "13  2013      1    1     558.0       -2.0     923.0      -14.0      UA   \n",
              "14  2013      1    1     559.0       -1.0     941.0       31.0      AA   \n",
              "\n",
              "   tailnum  flight origin dest  air_time  distance  \n",
              "0   N14228    1545    EWR  IAH     227.0      1400  \n",
              "1   N24211    1714    LGA  IAH     227.0      1416  \n",
              "2   N619AA    1141    JFK  MIA     160.0      1089  \n",
              "3   N804JB     725    JFK  BQN     183.0      1576  \n",
              "4   N668DN     461    LGA  ATL     116.0       762  \n",
              "5   N39463    1696    EWR  ORD     150.0       719  \n",
              "6   N516JB     507    EWR  FLL     158.0      1065  \n",
              "7   N829AS    5708    LGA  IAD      53.0       229  \n",
              "8   N593JB      79    JFK  MCO     140.0       944  \n",
              "9   N3ALAA     301    LGA  ORD     138.0       733  \n",
              "10  N793JB      49    JFK  PBI     149.0      1028  \n",
              "11  N657JB      71    JFK  TPA     158.0      1005  \n",
              "12  N29129     194    JFK  LAX     345.0      2475  \n",
              "13  N53441    1124    EWR  SFO     361.0      2565  \n",
              "14  N3DUAA     707    LGA  DFW     257.0      1389  "
            ],
            "text/html": [
              "\n",
              "  <div id=\"df-07cbd3c2-ce95-4249-81bc-0f4220f2643c\" class=\"colab-df-container\">\n",
              "    <div>\n",
              "<style scoped>\n",
              "    .dataframe tbody tr th:only-of-type {\n",
              "        vertical-align: middle;\n",
              "    }\n",
              "\n",
              "    .dataframe tbody tr th {\n",
              "        vertical-align: top;\n",
              "    }\n",
              "\n",
              "    .dataframe thead th {\n",
              "        text-align: right;\n",
              "    }\n",
              "</style>\n",
              "<table border=\"1\" class=\"dataframe\">\n",
              "  <thead>\n",
              "    <tr style=\"text-align: right;\">\n",
              "      <th></th>\n",
              "      <th>year</th>\n",
              "      <th>month</th>\n",
              "      <th>day</th>\n",
              "      <th>dep_time</th>\n",
              "      <th>dep_delay</th>\n",
              "      <th>arr_time</th>\n",
              "      <th>arr_delay</th>\n",
              "      <th>carrier</th>\n",
              "      <th>tailnum</th>\n",
              "      <th>flight</th>\n",
              "      <th>origin</th>\n",
              "      <th>dest</th>\n",
              "      <th>air_time</th>\n",
              "      <th>distance</th>\n",
              "    </tr>\n",
              "  </thead>\n",
              "  <tbody>\n",
              "    <tr>\n",
              "      <th>0</th>\n",
              "      <td>2013</td>\n",
              "      <td>1</td>\n",
              "      <td>1</td>\n",
              "      <td>517.0</td>\n",
              "      <td>2.0</td>\n",
              "      <td>830.0</td>\n",
              "      <td>11.0</td>\n",
              "      <td>UA</td>\n",
              "      <td>N14228</td>\n",
              "      <td>1545</td>\n",
              "      <td>EWR</td>\n",
              "      <td>IAH</td>\n",
              "      <td>227.0</td>\n",
              "      <td>1400</td>\n",
              "    </tr>\n",
              "    <tr>\n",
              "      <th>1</th>\n",
              "      <td>2013</td>\n",
              "      <td>1</td>\n",
              "      <td>1</td>\n",
              "      <td>533.0</td>\n",
              "      <td>4.0</td>\n",
              "      <td>850.0</td>\n",
              "      <td>20.0</td>\n",
              "      <td>UA</td>\n",
              "      <td>N24211</td>\n",
              "      <td>1714</td>\n",
              "      <td>LGA</td>\n",
              "      <td>IAH</td>\n",
              "      <td>227.0</td>\n",
              "      <td>1416</td>\n",
              "    </tr>\n",
              "    <tr>\n",
              "      <th>2</th>\n",
              "      <td>2013</td>\n",
              "      <td>1</td>\n",
              "      <td>1</td>\n",
              "      <td>542.0</td>\n",
              "      <td>2.0</td>\n",
              "      <td>923.0</td>\n",
              "      <td>33.0</td>\n",
              "      <td>AA</td>\n",
              "      <td>N619AA</td>\n",
              "      <td>1141</td>\n",
              "      <td>JFK</td>\n",
              "      <td>MIA</td>\n",
              "      <td>160.0</td>\n",
              "      <td>1089</td>\n",
              "    </tr>\n",
              "    <tr>\n",
              "      <th>3</th>\n",
              "      <td>2013</td>\n",
              "      <td>1</td>\n",
              "      <td>1</td>\n",
              "      <td>544.0</td>\n",
              "      <td>-1.0</td>\n",
              "      <td>1004.0</td>\n",
              "      <td>-18.0</td>\n",
              "      <td>B6</td>\n",
              "      <td>N804JB</td>\n",
              "      <td>725</td>\n",
              "      <td>JFK</td>\n",
              "      <td>BQN</td>\n",
              "      <td>183.0</td>\n",
              "      <td>1576</td>\n",
              "    </tr>\n",
              "    <tr>\n",
              "      <th>4</th>\n",
              "      <td>2013</td>\n",
              "      <td>1</td>\n",
              "      <td>1</td>\n",
              "      <td>554.0</td>\n",
              "      <td>-6.0</td>\n",
              "      <td>812.0</td>\n",
              "      <td>-25.0</td>\n",
              "      <td>DL</td>\n",
              "      <td>N668DN</td>\n",
              "      <td>461</td>\n",
              "      <td>LGA</td>\n",
              "      <td>ATL</td>\n",
              "      <td>116.0</td>\n",
              "      <td>762</td>\n",
              "    </tr>\n",
              "    <tr>\n",
              "      <th>5</th>\n",
              "      <td>2013</td>\n",
              "      <td>1</td>\n",
              "      <td>1</td>\n",
              "      <td>554.0</td>\n",
              "      <td>-4.0</td>\n",
              "      <td>740.0</td>\n",
              "      <td>12.0</td>\n",
              "      <td>UA</td>\n",
              "      <td>N39463</td>\n",
              "      <td>1696</td>\n",
              "      <td>EWR</td>\n",
              "      <td>ORD</td>\n",
              "      <td>150.0</td>\n",
              "      <td>719</td>\n",
              "    </tr>\n",
              "    <tr>\n",
              "      <th>6</th>\n",
              "      <td>2013</td>\n",
              "      <td>1</td>\n",
              "      <td>1</td>\n",
              "      <td>555.0</td>\n",
              "      <td>-5.0</td>\n",
              "      <td>913.0</td>\n",
              "      <td>19.0</td>\n",
              "      <td>B6</td>\n",
              "      <td>N516JB</td>\n",
              "      <td>507</td>\n",
              "      <td>EWR</td>\n",
              "      <td>FLL</td>\n",
              "      <td>158.0</td>\n",
              "      <td>1065</td>\n",
              "    </tr>\n",
              "    <tr>\n",
              "      <th>7</th>\n",
              "      <td>2013</td>\n",
              "      <td>1</td>\n",
              "      <td>1</td>\n",
              "      <td>557.0</td>\n",
              "      <td>-3.0</td>\n",
              "      <td>709.0</td>\n",
              "      <td>-14.0</td>\n",
              "      <td>EV</td>\n",
              "      <td>N829AS</td>\n",
              "      <td>5708</td>\n",
              "      <td>LGA</td>\n",
              "      <td>IAD</td>\n",
              "      <td>53.0</td>\n",
              "      <td>229</td>\n",
              "    </tr>\n",
              "    <tr>\n",
              "      <th>8</th>\n",
              "      <td>2013</td>\n",
              "      <td>1</td>\n",
              "      <td>1</td>\n",
              "      <td>557.0</td>\n",
              "      <td>-3.0</td>\n",
              "      <td>838.0</td>\n",
              "      <td>-8.0</td>\n",
              "      <td>B6</td>\n",
              "      <td>N593JB</td>\n",
              "      <td>79</td>\n",
              "      <td>JFK</td>\n",
              "      <td>MCO</td>\n",
              "      <td>140.0</td>\n",
              "      <td>944</td>\n",
              "    </tr>\n",
              "    <tr>\n",
              "      <th>9</th>\n",
              "      <td>2013</td>\n",
              "      <td>1</td>\n",
              "      <td>1</td>\n",
              "      <td>558.0</td>\n",
              "      <td>-2.0</td>\n",
              "      <td>753.0</td>\n",
              "      <td>8.0</td>\n",
              "      <td>AA</td>\n",
              "      <td>N3ALAA</td>\n",
              "      <td>301</td>\n",
              "      <td>LGA</td>\n",
              "      <td>ORD</td>\n",
              "      <td>138.0</td>\n",
              "      <td>733</td>\n",
              "    </tr>\n",
              "    <tr>\n",
              "      <th>10</th>\n",
              "      <td>2013</td>\n",
              "      <td>1</td>\n",
              "      <td>1</td>\n",
              "      <td>558.0</td>\n",
              "      <td>-2.0</td>\n",
              "      <td>849.0</td>\n",
              "      <td>-2.0</td>\n",
              "      <td>B6</td>\n",
              "      <td>N793JB</td>\n",
              "      <td>49</td>\n",
              "      <td>JFK</td>\n",
              "      <td>PBI</td>\n",
              "      <td>149.0</td>\n",
              "      <td>1028</td>\n",
              "    </tr>\n",
              "    <tr>\n",
              "      <th>11</th>\n",
              "      <td>2013</td>\n",
              "      <td>1</td>\n",
              "      <td>1</td>\n",
              "      <td>558.0</td>\n",
              "      <td>-2.0</td>\n",
              "      <td>853.0</td>\n",
              "      <td>-3.0</td>\n",
              "      <td>B6</td>\n",
              "      <td>N657JB</td>\n",
              "      <td>71</td>\n",
              "      <td>JFK</td>\n",
              "      <td>TPA</td>\n",
              "      <td>158.0</td>\n",
              "      <td>1005</td>\n",
              "    </tr>\n",
              "    <tr>\n",
              "      <th>12</th>\n",
              "      <td>2013</td>\n",
              "      <td>1</td>\n",
              "      <td>1</td>\n",
              "      <td>558.0</td>\n",
              "      <td>-2.0</td>\n",
              "      <td>924.0</td>\n",
              "      <td>7.0</td>\n",
              "      <td>UA</td>\n",
              "      <td>N29129</td>\n",
              "      <td>194</td>\n",
              "      <td>JFK</td>\n",
              "      <td>LAX</td>\n",
              "      <td>345.0</td>\n",
              "      <td>2475</td>\n",
              "    </tr>\n",
              "    <tr>\n",
              "      <th>13</th>\n",
              "      <td>2013</td>\n",
              "      <td>1</td>\n",
              "      <td>1</td>\n",
              "      <td>558.0</td>\n",
              "      <td>-2.0</td>\n",
              "      <td>923.0</td>\n",
              "      <td>-14.0</td>\n",
              "      <td>UA</td>\n",
              "      <td>N53441</td>\n",
              "      <td>1124</td>\n",
              "      <td>EWR</td>\n",
              "      <td>SFO</td>\n",
              "      <td>361.0</td>\n",
              "      <td>2565</td>\n",
              "    </tr>\n",
              "    <tr>\n",
              "      <th>14</th>\n",
              "      <td>2013</td>\n",
              "      <td>1</td>\n",
              "      <td>1</td>\n",
              "      <td>559.0</td>\n",
              "      <td>-1.0</td>\n",
              "      <td>941.0</td>\n",
              "      <td>31.0</td>\n",
              "      <td>AA</td>\n",
              "      <td>N3DUAA</td>\n",
              "      <td>707</td>\n",
              "      <td>LGA</td>\n",
              "      <td>DFW</td>\n",
              "      <td>257.0</td>\n",
              "      <td>1389</td>\n",
              "    </tr>\n",
              "  </tbody>\n",
              "</table>\n",
              "</div>\n",
              "    <div class=\"colab-df-buttons\">\n",
              "\n",
              "  <div class=\"colab-df-container\">\n",
              "    <button class=\"colab-df-convert\" onclick=\"convertToInteractive('df-07cbd3c2-ce95-4249-81bc-0f4220f2643c')\"\n",
              "            title=\"Convert this dataframe to an interactive table.\"\n",
              "            style=\"display:none;\">\n",
              "\n",
              "  <svg xmlns=\"http://www.w3.org/2000/svg\" height=\"24px\" viewBox=\"0 -960 960 960\">\n",
              "    <path d=\"M120-120v-720h720v720H120Zm60-500h600v-160H180v160Zm220 220h160v-160H400v160Zm0 220h160v-160H400v160ZM180-400h160v-160H180v160Zm440 0h160v-160H620v160ZM180-180h160v-160H180v160Zm440 0h160v-160H620v160Z\"/>\n",
              "  </svg>\n",
              "    </button>\n",
              "\n",
              "  <style>\n",
              "    .colab-df-container {\n",
              "      display:flex;\n",
              "      gap: 12px;\n",
              "    }\n",
              "\n",
              "    .colab-df-convert {\n",
              "      background-color: #E8F0FE;\n",
              "      border: none;\n",
              "      border-radius: 50%;\n",
              "      cursor: pointer;\n",
              "      display: none;\n",
              "      fill: #1967D2;\n",
              "      height: 32px;\n",
              "      padding: 0 0 0 0;\n",
              "      width: 32px;\n",
              "    }\n",
              "\n",
              "    .colab-df-convert:hover {\n",
              "      background-color: #E2EBFA;\n",
              "      box-shadow: 0px 1px 2px rgba(60, 64, 67, 0.3), 0px 1px 3px 1px rgba(60, 64, 67, 0.15);\n",
              "      fill: #174EA6;\n",
              "    }\n",
              "\n",
              "    .colab-df-buttons div {\n",
              "      margin-bottom: 4px;\n",
              "    }\n",
              "\n",
              "    [theme=dark] .colab-df-convert {\n",
              "      background-color: #3B4455;\n",
              "      fill: #D2E3FC;\n",
              "    }\n",
              "\n",
              "    [theme=dark] .colab-df-convert:hover {\n",
              "      background-color: #434B5C;\n",
              "      box-shadow: 0px 1px 3px 1px rgba(0, 0, 0, 0.15);\n",
              "      filter: drop-shadow(0px 1px 2px rgba(0, 0, 0, 0.3));\n",
              "      fill: #FFFFFF;\n",
              "    }\n",
              "  </style>\n",
              "\n",
              "    <script>\n",
              "      const buttonEl =\n",
              "        document.querySelector('#df-07cbd3c2-ce95-4249-81bc-0f4220f2643c button.colab-df-convert');\n",
              "      buttonEl.style.display =\n",
              "        google.colab.kernel.accessAllowed ? 'block' : 'none';\n",
              "\n",
              "      async function convertToInteractive(key) {\n",
              "        const element = document.querySelector('#df-07cbd3c2-ce95-4249-81bc-0f4220f2643c');\n",
              "        const dataTable =\n",
              "          await google.colab.kernel.invokeFunction('convertToInteractive',\n",
              "                                                    [key], {});\n",
              "        if (!dataTable) return;\n",
              "\n",
              "        const docLinkHtml = 'Like what you see? Visit the ' +\n",
              "          '<a target=\"_blank\" href=https://colab.research.google.com/notebooks/data_table.ipynb>data table notebook</a>'\n",
              "          + ' to learn more about interactive tables.';\n",
              "        element.innerHTML = '';\n",
              "        dataTable['output_type'] = 'display_data';\n",
              "        await google.colab.output.renderOutput(dataTable, element);\n",
              "        const docLink = document.createElement('div');\n",
              "        docLink.innerHTML = docLinkHtml;\n",
              "        element.appendChild(docLink);\n",
              "      }\n",
              "    </script>\n",
              "  </div>\n",
              "\n",
              "\n",
              "<div id=\"df-df51ae4d-3286-4615-a822-e451b445fb97\">\n",
              "  <button class=\"colab-df-quickchart\" onclick=\"quickchart('df-df51ae4d-3286-4615-a822-e451b445fb97')\"\n",
              "            title=\"Suggest charts\"\n",
              "            style=\"display:none;\">\n",
              "\n",
              "<svg xmlns=\"http://www.w3.org/2000/svg\" height=\"24px\"viewBox=\"0 0 24 24\"\n",
              "     width=\"24px\">\n",
              "    <g>\n",
              "        <path d=\"M19 3H5c-1.1 0-2 .9-2 2v14c0 1.1.9 2 2 2h14c1.1 0 2-.9 2-2V5c0-1.1-.9-2-2-2zM9 17H7v-7h2v7zm4 0h-2V7h2v10zm4 0h-2v-4h2v4z\"/>\n",
              "    </g>\n",
              "</svg>\n",
              "  </button>\n",
              "\n",
              "<style>\n",
              "  .colab-df-quickchart {\n",
              "      --bg-color: #E8F0FE;\n",
              "      --fill-color: #1967D2;\n",
              "      --hover-bg-color: #E2EBFA;\n",
              "      --hover-fill-color: #174EA6;\n",
              "      --disabled-fill-color: #AAA;\n",
              "      --disabled-bg-color: #DDD;\n",
              "  }\n",
              "\n",
              "  [theme=dark] .colab-df-quickchart {\n",
              "      --bg-color: #3B4455;\n",
              "      --fill-color: #D2E3FC;\n",
              "      --hover-bg-color: #434B5C;\n",
              "      --hover-fill-color: #FFFFFF;\n",
              "      --disabled-bg-color: #3B4455;\n",
              "      --disabled-fill-color: #666;\n",
              "  }\n",
              "\n",
              "  .colab-df-quickchart {\n",
              "    background-color: var(--bg-color);\n",
              "    border: none;\n",
              "    border-radius: 50%;\n",
              "    cursor: pointer;\n",
              "    display: none;\n",
              "    fill: var(--fill-color);\n",
              "    height: 32px;\n",
              "    padding: 0;\n",
              "    width: 32px;\n",
              "  }\n",
              "\n",
              "  .colab-df-quickchart:hover {\n",
              "    background-color: var(--hover-bg-color);\n",
              "    box-shadow: 0 1px 2px rgba(60, 64, 67, 0.3), 0 1px 3px 1px rgba(60, 64, 67, 0.15);\n",
              "    fill: var(--button-hover-fill-color);\n",
              "  }\n",
              "\n",
              "  .colab-df-quickchart-complete:disabled,\n",
              "  .colab-df-quickchart-complete:disabled:hover {\n",
              "    background-color: var(--disabled-bg-color);\n",
              "    fill: var(--disabled-fill-color);\n",
              "    box-shadow: none;\n",
              "  }\n",
              "\n",
              "  .colab-df-spinner {\n",
              "    border: 2px solid var(--fill-color);\n",
              "    border-color: transparent;\n",
              "    border-bottom-color: var(--fill-color);\n",
              "    animation:\n",
              "      spin 1s steps(1) infinite;\n",
              "  }\n",
              "\n",
              "  @keyframes spin {\n",
              "    0% {\n",
              "      border-color: transparent;\n",
              "      border-bottom-color: var(--fill-color);\n",
              "      border-left-color: var(--fill-color);\n",
              "    }\n",
              "    20% {\n",
              "      border-color: transparent;\n",
              "      border-left-color: var(--fill-color);\n",
              "      border-top-color: var(--fill-color);\n",
              "    }\n",
              "    30% {\n",
              "      border-color: transparent;\n",
              "      border-left-color: var(--fill-color);\n",
              "      border-top-color: var(--fill-color);\n",
              "      border-right-color: var(--fill-color);\n",
              "    }\n",
              "    40% {\n",
              "      border-color: transparent;\n",
              "      border-right-color: var(--fill-color);\n",
              "      border-top-color: var(--fill-color);\n",
              "    }\n",
              "    60% {\n",
              "      border-color: transparent;\n",
              "      border-right-color: var(--fill-color);\n",
              "    }\n",
              "    80% {\n",
              "      border-color: transparent;\n",
              "      border-right-color: var(--fill-color);\n",
              "      border-bottom-color: var(--fill-color);\n",
              "    }\n",
              "    90% {\n",
              "      border-color: transparent;\n",
              "      border-bottom-color: var(--fill-color);\n",
              "    }\n",
              "  }\n",
              "</style>\n",
              "\n",
              "  <script>\n",
              "    async function quickchart(key) {\n",
              "      const quickchartButtonEl =\n",
              "        document.querySelector('#' + key + ' button');\n",
              "      quickchartButtonEl.disabled = true;  // To prevent multiple clicks.\n",
              "      quickchartButtonEl.classList.add('colab-df-spinner');\n",
              "      try {\n",
              "        const charts = await google.colab.kernel.invokeFunction(\n",
              "            'suggestCharts', [key], {});\n",
              "      } catch (error) {\n",
              "        console.error('Error during call to suggestCharts:', error);\n",
              "      }\n",
              "      quickchartButtonEl.classList.remove('colab-df-spinner');\n",
              "      quickchartButtonEl.classList.add('colab-df-quickchart-complete');\n",
              "    }\n",
              "    (() => {\n",
              "      let quickchartButtonEl =\n",
              "        document.querySelector('#df-df51ae4d-3286-4615-a822-e451b445fb97 button');\n",
              "      quickchartButtonEl.style.display =\n",
              "        google.colab.kernel.accessAllowed ? 'block' : 'none';\n",
              "    })();\n",
              "  </script>\n",
              "</div>\n",
              "    </div>\n",
              "  </div>\n"
            ],
            "application/vnd.google.colaboratory.intrinsic+json": {
              "type": "dataframe",
              "variable_name": "df"
            }
          },
          "metadata": {},
          "execution_count": 5
        }
      ],
      "source": [
        "import pandas as pd\n",
        "import numpy as np\n",
        "import matplotlib.pyplot as plt\n",
        "import seaborn as sns\n",
        "import scipy.stats as stats\n",
        "\n",
        "df = pd.read_csv(\"flights_NY.csv\")  #чтение файла\n",
        "df = df.dropna() #удаление строк с пустыми значениями\n",
        "df = df.reset_index(drop=True) #запись строк с новыми индексами из-за удаления пропущенных\n",
        "df.head(15)"
      ]
    },
    {
      "cell_type": "markdown",
      "metadata": {
        "id": "DMcDtIaNwuxG"
      },
      "source": [
        "# **Задание 1**\n",
        "## 1)Создадим агрегированную таблицу. Отношение полетов с положительной задержкой прилета ко всем полетам с задержками прилета для каждой авиакомпании. То есть найдем вероятность для каждой авиакомпании.  \n"
      ]
    },
    {
      "cell_type": "code",
      "execution_count": null,
      "metadata": {
        "id": "-8DZ-jaMlBTn"
      },
      "outputs": [],
      "source": [
        "pos = df[df['arr_delay'] >= 0].groupby('carrier').size() #создаем переменную с количеством положительных задержек прилета\n",
        "all = df.groupby('carrier').size() #переменная с количеством всех задержек прилета\n",
        "otn = pos / all #отношение положительных ко всем\n",
        "res = otn.reset_index(name='otn') #таблица с результатами для каждой авиакомпании\n",
        "otn.reset_index(name='otn') #выводим таблицу"
      ]
    },
    {
      "cell_type": "markdown",
      "metadata": {
        "id": "Te8W0UvyyaMU"
      },
      "source": [
        "## 2) Создадим график. Ось ординат показывает вероятность задержки, ось абсцисс авиакомпанию"
      ]
    },
    {
      "cell_type": "code",
      "execution_count": null,
      "metadata": {
        "id": "0b3NoLtblXoH"
      },
      "outputs": [],
      "source": [
        "plt.figure(figsize=(10, 5))\n",
        "plt.title('Вероятность положительной задержки прилета по авиакомпаниям по алфавиту')\n",
        "plt.bar(res['carrier'], res['otn'], color='indigo', edgecolor='green')\n",
        "plt.xlabel('Авиакомпания')\n",
        "plt.ylabel('Вероятность положительной задержки прилета')\n",
        "plt.ylim(0, 1)\n",
        "plt.grid(axis='y', linestyle='--', alpha=0.2, color=\"red\")\n",
        "plt.grid(axis='x', linestyle='--', alpha=0.5)\n",
        "plt.show()"
      ]
    },
    {
      "cell_type": "markdown",
      "metadata": {
        "id": "U0OPwWWFzHN2"
      },
      "source": [
        "## 2.1) Такой же график, только по возрастанию вероятностей"
      ]
    },
    {
      "cell_type": "code",
      "execution_count": null,
      "metadata": {
        "id": "ZfbgNWAbtRNe",
        "collapsed": true
      },
      "outputs": [],
      "source": [
        "sres = res.sort_values(by='otn') #отсортированные вероятности\n",
        "\n",
        "plt.figure(figsize=(10, 5))\n",
        "plt.bar(sres['carrier'], sres['otn'], color='indigo', edgecolor='green')\n",
        "plt.xlabel('Авиакомпания')\n",
        "plt.ylabel('Вероятность положительной задержки прилета')\n",
        "plt.title('Вероятность положительной задержки прилета по авиакомпаниям по возрастанию')\n",
        "plt.ylim(0, 1)\n",
        "plt.grid(axis='y', linestyle='--', alpha=0.2, color=\"red\")\n",
        "plt.grid(axis='x', linestyle='--', alpha=0.5)\n",
        "plt.show()"
      ]
    },
    {
      "cell_type": "markdown",
      "metadata": {
        "id": "KV5YJH8KzxPg"
      },
      "source": [
        "# **Задание 2**\n",
        "## 1) Разделим на три примерно равные группы все полеты в отсортированном виде."
      ]
    },
    {
      "cell_type": "code",
      "execution_count": null,
      "metadata": {
        "id": "WCvg9JI_vGNd",
        "colab": {
          "base_uri": "https://localhost:8080/",
          "height": 144
        },
        "outputId": "f46fec11-6fcd-4c8c-e1a3-3a2121f43250"
      },
      "outputs": [
        {
          "output_type": "error",
          "ename": "NameError",
          "evalue": "name 'df' is not defined",
          "traceback": [
            "\u001b[0;31m---------------------------------------------------------------------------\u001b[0m",
            "\u001b[0;31mNameError\u001b[0m                                 Traceback (most recent call last)",
            "\u001b[0;32m<ipython-input-3-81faf09484a9>\u001b[0m in \u001b[0;36m<cell line: 1>\u001b[0;34m()\u001b[0m\n\u001b[0;32m----> 1\u001b[0;31m \u001b[0mdf\u001b[0m\u001b[0;34m[\u001b[0m\u001b[0;34m'flt'\u001b[0m\u001b[0;34m]\u001b[0m \u001b[0;34m=\u001b[0m \u001b[0mpd\u001b[0m\u001b[0;34m.\u001b[0m\u001b[0mqcut\u001b[0m\u001b[0;34m(\u001b[0m\u001b[0mdf\u001b[0m\u001b[0;34m[\u001b[0m\u001b[0;34m'distance'\u001b[0m\u001b[0;34m]\u001b[0m\u001b[0;34m,\u001b[0m \u001b[0mq\u001b[0m\u001b[0;34m=\u001b[0m\u001b[0;36m3\u001b[0m\u001b[0;34m,\u001b[0m \u001b[0mlabels\u001b[0m\u001b[0;34m=\u001b[0m\u001b[0;34m[\u001b[0m\u001b[0;34m'короткие'\u001b[0m\u001b[0;34m,\u001b[0m \u001b[0;34m'средние'\u001b[0m\u001b[0;34m,\u001b[0m \u001b[0;34m'длинные'\u001b[0m\u001b[0;34m]\u001b[0m\u001b[0;34m)\u001b[0m\u001b[0;34m\u001b[0m\u001b[0;34m\u001b[0m\u001b[0m\n\u001b[0m",
            "\u001b[0;31mNameError\u001b[0m: name 'df' is not defined"
          ]
        }
      ],
      "source": [
        "df['flt'] = pd.qcut(df['distance'], q=3, labels=['короткие', 'средние', 'длинные'])"
      ]
    },
    {
      "cell_type": "markdown",
      "metadata": {
        "id": "uauVcaet0tKV"
      },
      "source": [
        "## 2) Создадим график для каждой группы"
      ]
    },
    {
      "cell_type": "code",
      "execution_count": null,
      "metadata": {
        "id": "7i2aUDki0PLc",
        "colab": {
          "base_uri": "https://localhost:8080/",
          "height": 216
        },
        "outputId": "521527a9-f56d-4250-d986-9d1efb6f0971"
      },
      "outputs": [
        {
          "output_type": "error",
          "ename": "NameError",
          "evalue": "name 'df' is not defined",
          "traceback": [
            "\u001b[0;31m---------------------------------------------------------------------------\u001b[0m",
            "\u001b[0;31mNameError\u001b[0m                                 Traceback (most recent call last)",
            "\u001b[0;32m<ipython-input-4-b2acf5990704>\u001b[0m in \u001b[0;36m<cell line: 2>\u001b[0;34m()\u001b[0m\n\u001b[1;32m      1\u001b[0m \u001b[0mfl\u001b[0m \u001b[0;34m=\u001b[0m \u001b[0;34m[\u001b[0m\u001b[0;34m'короткие'\u001b[0m\u001b[0;34m,\u001b[0m \u001b[0;34m'средние'\u001b[0m\u001b[0;34m,\u001b[0m \u001b[0;34m'длинные'\u001b[0m\u001b[0;34m]\u001b[0m\u001b[0;34m\u001b[0m\u001b[0;34m\u001b[0m\u001b[0m\n\u001b[1;32m      2\u001b[0m \u001b[0;32mfor\u001b[0m \u001b[0mflt\u001b[0m \u001b[0;32min\u001b[0m \u001b[0mfl\u001b[0m\u001b[0;34m:\u001b[0m \u001b[0;31m# пройдем по массиву определяя в какую группу будет отнесен полет\u001b[0m\u001b[0;34m\u001b[0m\u001b[0;34m\u001b[0m\u001b[0m\n\u001b[0;32m----> 3\u001b[0;31m     \u001b[0mtf\u001b[0m \u001b[0;34m=\u001b[0m \u001b[0mdf\u001b[0m\u001b[0;34m[\u001b[0m\u001b[0mdf\u001b[0m\u001b[0;34m[\u001b[0m\u001b[0;34m'flt'\u001b[0m\u001b[0;34m]\u001b[0m \u001b[0;34m==\u001b[0m \u001b[0mflt\u001b[0m\u001b[0;34m]\u001b[0m \u001b[0;31m# таблица в которой все типы полета относятся к одной группе\u001b[0m\u001b[0;34m\u001b[0m\u001b[0;34m\u001b[0m\u001b[0m\n\u001b[0m\u001b[1;32m      4\u001b[0m     \u001b[0mplt\u001b[0m\u001b[0;34m.\u001b[0m\u001b[0mfigure\u001b[0m\u001b[0;34m(\u001b[0m\u001b[0mfigsize\u001b[0m\u001b[0;34m=\u001b[0m\u001b[0;34m(\u001b[0m\u001b[0;36m10\u001b[0m\u001b[0;34m,\u001b[0m \u001b[0;36m5\u001b[0m\u001b[0;34m)\u001b[0m\u001b[0;34m)\u001b[0m\u001b[0;34m\u001b[0m\u001b[0;34m\u001b[0m\u001b[0m\n\u001b[1;32m      5\u001b[0m     \u001b[0mplt\u001b[0m\u001b[0;34m.\u001b[0m\u001b[0mhist\u001b[0m\u001b[0;34m(\u001b[0m\u001b[0mtf\u001b[0m\u001b[0;34m[\u001b[0m\u001b[0;34m'distance'\u001b[0m\u001b[0;34m]\u001b[0m\u001b[0;34m,\u001b[0m \u001b[0mbins\u001b[0m\u001b[0;34m=\u001b[0m\u001b[0;36m20\u001b[0m\u001b[0;34m,\u001b[0m \u001b[0mcolor\u001b[0m\u001b[0;34m=\u001b[0m\u001b[0;34m'indigo'\u001b[0m\u001b[0;34m,\u001b[0m \u001b[0medgecolor\u001b[0m\u001b[0;34m=\u001b[0m\u001b[0;34m'green'\u001b[0m\u001b[0;34m)\u001b[0m\u001b[0;34m\u001b[0m\u001b[0;34m\u001b[0m\u001b[0m\n",
            "\u001b[0;31mNameError\u001b[0m: name 'df' is not defined"
          ]
        }
      ],
      "source": [
        "fl = ['короткие', 'средние', 'длинные']\n",
        "for flt in fl: # пройдем по массиву определяя в какую группу будет отнесен полет\n",
        "    tf = df[df['flt'] == flt] # таблица в которой все типы полета относятся к одной группе\n",
        "    plt.figure(figsize=(10, 5))\n",
        "    plt.hist(tf['distance'], bins=20, color='indigo', edgecolor='green')\n",
        "    plt.xlabel('Дистанция')\n",
        "    plt.ylabel('Количество')\n",
        "    plt.title('График перелетов - {}'.format(flt))\n",
        "    plt.ylim(0, 35000)\n",
        "    plt.grid(axis='y', linestyle='--', alpha=0.2, color=\"red\")\n",
        "    plt.grid(axis='x', linestyle='--', alpha=0.5)\n",
        "    plt.show()\n"
      ]
    },
    {
      "cell_type": "markdown",
      "source": [
        "## 3) Среднее значение задержки вылета для каждой группы полетов"
      ],
      "metadata": {
        "id": "RY4gceWL0ok9"
      }
    },
    {
      "cell_type": "code",
      "execution_count": null,
      "metadata": {
        "id": "sET9LEuUze8l"
      },
      "outputs": [],
      "source": [
        "dfs = df[df['flt'] == \"короткие\"]\n",
        "dfm = df[df['flt'] == \"средние\"]\n",
        "dfl = df[df['flt'] == \"длинные\"]\n",
        "print(\"средняя задержка коротких рейсов\", dfs['dep_delay'].mean())\n",
        "print(\"средняя задержка средних рейсов\", dfm['dep_delay'].mean())\n",
        "print(\"средняя задержка длинных рейсов\", dfl['dep_delay'].mean())"
      ]
    },
    {
      "cell_type": "markdown",
      "source": [
        "## 4) Уникальные направления дальних полетов"
      ],
      "metadata": {
        "id": "dToSoCtMRpmv"
      }
    },
    {
      "cell_type": "code",
      "source": [
        "udest = (dfl[\"dest\"].unique())\n",
        "for u in udest:\n",
        "  print(u, end=' ')"
      ],
      "metadata": {
        "id": "uRFtRbWLRy7R"
      },
      "execution_count": null,
      "outputs": []
    },
    {
      "cell_type": "markdown",
      "source": [
        "# **Задание 3**\n",
        "## 1) Выведем сводную таблицу для выборки по каждуому месяцу с нужными параметрами. Количество, среднее значение и стандартное отклонение. Воспользуемся т-тестом.\n"
      ],
      "metadata": {
        "id": "LjwOYqlY2UJT"
      }
    },
    {
      "cell_type": "code",
      "execution_count": null,
      "metadata": {
        "id": "eRd5DSN3MfWj"
      },
      "outputs": [],
      "source": [
        "df.groupby([\"month\"])[\"dep_delay\"].aggregate(['count', 'mean', 'std'])"
      ]
    },
    {
      "cell_type": "markdown",
      "source": [
        "## 2) Создадим датасеты для каждого параметра"
      ],
      "metadata": {
        "id": "7zs6Hzoj7Knc"
      }
    },
    {
      "cell_type": "code",
      "execution_count": null,
      "metadata": {
        "id": "aL7TItI3YR8E"
      },
      "outputs": [],
      "source": [
        "df_sr=df.groupby([\"month\"])[\"dep_delay\"].mean()\n",
        "df_count=df.groupby([\"month\"])[\"dep_delay\"].count()\n",
        "df_std=df.groupby([\"month\"])[\"dep_delay\"].std()"
      ]
    },
    {
      "cell_type": "markdown",
      "source": [
        "## 3) Определяем значения для нахождения доверительного интервала"
      ],
      "metadata": {
        "id": "ZEz5-Ch_Bs2D"
      }
    },
    {
      "cell_type": "code",
      "source": [
        "z = stats.norm.ppf((1 - 0.95) / 2) # значение определяется по таблице для конкретного уровня доверия\n",
        "gr_v = df_sr + z * (df_std / np.sqrt(df_count)) # верхняя граница интервала\n",
        "gr_n = df_sr - z * (df_std / np.sqrt(df_count)) # нижняя граница интервала"
      ],
      "metadata": {
        "id": "p3QWa2bY62Cj"
      },
      "execution_count": null,
      "outputs": []
    },
    {
      "cell_type": "markdown",
      "source": [
        "## 4) Строим график"
      ],
      "metadata": {
        "id": "m2F1pampB16b"
      }
    },
    {
      "cell_type": "code",
      "source": [
        "plt.figure(figsize=(12, 6))\n",
        "plt.plot(df_sr.index, df_sr, marker=\"o\", color='indigo')\n",
        "plt.fill_between(df_sr.index, gr_n, gr_v, color='green', alpha=0.5)\n",
        "plt.xlabel('месяц')\n",
        "plt.title('Средняя задержка прилета для каждого месяца с 95% доверительным интервалом')\n",
        "plt.xticks(df_sr.index)\n",
        "plt.grid(axis='y', linestyle='--', alpha=0.2, color=\"red\")\n",
        "plt.grid(axis='x', linestyle='--', alpha=0.5)\n",
        "plt.show()"
      ],
      "metadata": {
        "id": "8cC4dzm26-we"
      },
      "execution_count": null,
      "outputs": []
    },
    {
      "cell_type": "markdown",
      "source": [
        "## 5) Создадим два датасета с задержками вылета в январе и в феврале"
      ],
      "metadata": {
        "id": "lb3YLjxxGs4u"
      }
    },
    {
      "cell_type": "code",
      "execution_count": null,
      "metadata": {
        "id": "5IgzIKyHgl6d"
      },
      "outputs": [],
      "source": [
        "jan = df[df['month'] == 1]['dep_delay']\n",
        "feb = df[df['month'] == 2]['dep_delay']"
      ]
    },
    {
      "cell_type": "markdown",
      "source": [
        "## 6) Посчитаем всех необходимые значения для t-расчетного и p-значения"
      ],
      "metadata": {
        "id": "Ws0QPRx0HHVD"
      }
    },
    {
      "cell_type": "code",
      "source": [
        "t, p = stats.ttest_ind(jan, feb)\n",
        "print(\"расчетное значение:\", t)\n",
        "print(\"p-значение:\", p)"
      ],
      "metadata": {
        "id": "6NOWqsA6CDvC",
        "colab": {
          "base_uri": "https://localhost:8080/"
        },
        "outputId": "de44ef06-e7fc-4816-e561-e0059d715373"
      },
      "execution_count": null,
      "outputs": [
        {
          "output_type": "stream",
          "name": "stdout",
          "text": [
            "расчетное значение: -2.386498623322741\n",
            "p-значение: 0.017013366495100535\n"
          ]
        }
      ]
    },
    {
      "cell_type": "markdown",
      "source": [
        "## 7) Проверим гипотезы"
      ],
      "metadata": {
        "id": "6CMBYruPJ5vo"
      }
    },
    {
      "cell_type": "code",
      "source": [
        "if p < 0.05:\n",
        "    print(\"H0 отвергается, то есть при уровне значимости 5% средняя задержка вылета в январе и феврале не равна\")\n",
        "else:\n",
        "    print(\"H0 не отвергается, то есть при уровне значимости 5% средняя задержка вылета в январе и феврале равна\")\n",
        "\n",
        "if p < 0.01:\n",
        "     print(\"H0 отвергается, то есть при уровне значимости 1% средняя задержка вылета в январе и феврале не равна\")\n",
        "else:\n",
        "    print(\"H0 не отвергается, то есть при уровне значимости 1% средняя задержка вылета в январе и феврале равна\")\n"
      ],
      "metadata": {
        "id": "b6DggxmNCMcA",
        "colab": {
          "base_uri": "https://localhost:8080/"
        },
        "outputId": "5f035757-3ba9-47e7-c23c-83b2185a3879"
      },
      "execution_count": null,
      "outputs": [
        {
          "output_type": "stream",
          "name": "stdout",
          "text": [
            "H0 отвергается, то есть при уровне значимости 5% средняя задержка вылета в январе и феврале не равна\n",
            "H0 не отвергается, то есть при уровне значимости 1% средняя задержка вылета в январе и феврале равна\n"
          ]
        }
      ]
    },
    {
      "cell_type": "markdown",
      "source": [
        "# **Задание 4**\n",
        "## 1) Найдем коэффициент корреляции"
      ],
      "metadata": {
        "id": "xXXIsjWbOb6Z"
      }
    },
    {
      "cell_type": "code",
      "execution_count": null,
      "metadata": {
        "id": "mFyQbmcOjMYs"
      },
      "outputs": [],
      "source": [
        "cor = df['distance'].corr(df['air_time'])\n",
        "print(\"коэффициент корреляции:\", cor)"
      ]
    },
    {
      "cell_type": "markdown",
      "source": [
        "## 2)Найдем уравнение регрессии"
      ],
      "metadata": {
        "id": "3iCYnV6iOpz7"
      }
    },
    {
      "cell_type": "code",
      "source": [
        "b2, b1, corr, p, st = stats.linregress(df['distance'], df['air_time'])\n",
        "rl = b1 + b2 * df['distance']\n",
        "print(\"уравнение регрессии:\",\"air_time =\",b1.round(2),\"+\", b2.round(2),\"* distance\")"
      ],
      "metadata": {
        "id": "eeGIjcK4L4LG"
      },
      "execution_count": null,
      "outputs": []
    },
    {
      "cell_type": "markdown",
      "source": [
        "Коэффициент 0.13 при переменной distance означает, что 1 единица дистанции полета увеличивает время полета на 0.13 единиц. Коэффициент 18.47 - это коэффициент показывающий, что по умолчанию полет не может быть меньше 18.47 минут.  "
      ],
      "metadata": {
        "id": "-wMEpkMTQaud"
      }
    },
    {
      "cell_type": "markdown",
      "source": [
        "## 3) Построим график"
      ],
      "metadata": {
        "id": "62aGhsExOvK6"
      }
    },
    {
      "cell_type": "code",
      "source": [
        "plt.figure(figsize=(10, 6))\n",
        "plt.scatter(df['distance'], df['air_time'], alpha=0.2, color=\"indigo\")\n",
        "plt.plot(df['distance'], rl, color='green')\n",
        "plt.xlabel('Расстояние')\n",
        "plt.ylabel('Время в полете')\n",
        "plt.title('Диаграмма рассеивания с линией регрессии')\n",
        "plt.grid(axis='y', linestyle='--', alpha=0.2, color=\"red\")\n",
        "plt.grid(axis='x', linestyle='--', alpha=0.5)\n",
        "plt.show()"
      ],
      "metadata": {
        "id": "HY_M6HRTMgRD"
      },
      "execution_count": null,
      "outputs": []
    },
    {
      "cell_type": "markdown",
      "source": [
        "# **Задание 5**\n",
        "## 1) Отфильтруем нужные значения в новый датасет"
      ],
      "metadata": {
        "id": "XUJxi_eGT0Lm"
      }
    },
    {
      "cell_type": "code",
      "execution_count": null,
      "metadata": {
        "id": "Lb4fCJP7o8qp"
      },
      "outputs": [],
      "source": [
        "f_df = df[(df['dep_delay'] >= -15) & (df['dep_delay'] <= 15)]"
      ]
    },
    {
      "cell_type": "markdown",
      "source": [
        "## 2) Предполагаем, что это нормальное распределение и ищем необходимые параметры."
      ],
      "metadata": {
        "id": "AmJDKzkid35J"
      }
    },
    {
      "cell_type": "code",
      "source": [
        "sr, st = stats.norm.fit(f_df['arr_delay']) # среднее значение и стандартное отклонение\n",
        "x = np.linspace(f_df['arr_delay'].min(), f_df['arr_delay'].max(), 100) # задаем линию распределения\n",
        "v = stats.norm.pdf(x, sr, st) # плотность вероятности"
      ],
      "metadata": {
        "id": "bw3qEXoxUFNo"
      },
      "execution_count": null,
      "outputs": []
    },
    {
      "cell_type": "markdown",
      "source": [
        "## 3) Строим график"
      ],
      "metadata": {
        "id": "MSaK_GTifa87"
      }
    },
    {
      "cell_type": "code",
      "source": [
        "plt.figure(figsize=(10, 6))\n",
        "plt.hist(f_df['arr_delay'], bins=30, density=True, color='indigo', edgecolor='green')\n",
        "plt.plot(x, v, color ='green')\n",
        "plt.xlabel('Задержка вылета')\n",
        "plt.ylabel('Плотность')\n",
        "plt.title('Распределение плотности')\n",
        "plt.grid(axis='y', linestyle='--', alpha=0.2, color=\"red\")\n",
        "plt.grid(axis='x', linestyle='--', alpha=0.5)\n",
        "plt.show()"
      ],
      "metadata": {
        "id": "CtRmYzHWb42O",
        "colab": {
          "base_uri": "https://localhost:8080/",
          "height": 564
        },
        "outputId": "1a14859d-dc56-4611-e3ba-02a910c90ca0"
      },
      "execution_count": null,
      "outputs": [
        {
          "output_type": "display_data",
          "data": {
            "text/plain": [
              "<Figure size 1000x600 with 1 Axes>"
            ],
            "image/png": "[encoded data removed]"
          },
          "metadata": {}
        }
      ]
    }
  ],
  "metadata": {
    "colab": {
      "provenance": [],
      "collapsed_sections": [
        "ZZdD4gpRtOgY",
        "DMcDtIaNwuxG"
      ]
    },
    "kernelspec": {
      "display_name": "Python 3",
      "name": "python3"
    },
    "language_info": {
      "name": "python"
    }
  },
  "nbformat": 4,
  "nbformat_minor": 0
}